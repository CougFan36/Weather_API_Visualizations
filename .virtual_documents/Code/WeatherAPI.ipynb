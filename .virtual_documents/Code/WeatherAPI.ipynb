


# Dependencies and Setup
import matplotlib.pyplot as plt
import pandas as pd
import numpy as np
import requests
import time

# Import API key
from api_keys import weather_api_key

# Incorporated citipy to determine city based on latitude and longitude
from citipy import citipy

# Output File (CSV)
output_data_file = "../Output/cities.csv"

# Range of latitudes and longitudes
lat_range = (-90, 90)
lng_range = (-180, 180)





# List for holding lat_lngs and cities
lat_lngs = []
cities = []

# Create a set of random lat and lng combinations
lats = np.random.uniform(lat_range[0], lat_range[1], size=1500)
lngs = np.random.uniform(lng_range[0], lng_range[1], size=1500)
lat_lngs = zip(lats, lngs)

# Identify nearest city for each lat, lng combination
for lat_lng in lat_lngs:
    city = citipy.nearest_city(lat_lng[0], lat_lng[1]).city_name
    
    # If the city is unique, then add it to our cities list
    if city not in cities:
        cities.append(city)


# Print the city count to confirm sufficient count
len(cities)





# Saving base URL and changing units from metric to imperial
url = "http://api.openweathermap.org/data/2.5/weather?"
units = "imperial"

# Build partial query URL
query_url = f"{url}appid={weather_api_key}&units={units}&q="
record_count = 1
set_count = 1

# Lists to pull in data from Weather API
names = []
lat = []
lng = []
current_temp = []
max_temp = []
humidity = []
cloudiness = []
wind_speed = []
country = []
date = []

# Loop through cities and collect weather data json file.  Print out name and record/set number.  Sleep for 60 seconds after each 50 record pull.
for city in cities:
    print(f"Processing Record {record_count} of Set {set_count} | {city}")
    response = requests.get(query_url + city).json()
    try:
        names.append(response['name'])
        lat.append(response['coord']['lat'])
        lng.append(response['coord']['lon'])
        current_temp.append(response['main']['temp'])
        max_temp.append(response['main']['temp_max'])
        humidity.append(response['main']['humidity'])
        cloudiness.append(response['clouds']['all'])
        wind_speed.append(response['wind']['speed'])
        country.append(response['sys']['country'])
        date.append(response['dt'])
    except KeyError:
        print(f"{city} not found in weather site.")
    record_count += 1
    if record_count % 50 == 0:
        set_count += 1
        time.sleep(60)





#Check to make sure data has been evenly pulled
lists = {
    "names": names,
    "lat": lat,
    "lng": lng,
    "current_temp": current_temp,
    "max_temp": max_temp,
    "humidity": humidity,
    "cloudiness": cloudiness,
    "wind_speed": wind_speed,
    "country": country,
    "date": date
}
for list in lists:
    print(f"The length of {list} is {len(lists[list])}")




# Create dict and set up data frame for data.  Output the data to a csv file.
weather_dict = {
    "Name": names,
    "Latitude": lat,
    "Longitude": lng,
    "Current Temp": current_temp,
    "Max Temp": max_temp,
    "Humidity": humidity,
    "Cloudiness": cloudiness,
    "Wind Speed": wind_speed,
    "Country": country,
    "Date": date
}

weather_data = pd.DataFrame(weather_dict)

weather_data.to_csv(output_data_file)

weather_data.head()


weather_data.describe()





weather_data[weather_data['Humidity'] > 100].count()


#  Get the indices of cities that have humidity over 100%.



# Make a new DataFrame equal to the city data to drop all humidity outliers by index.
# Passing "inplace=False" will make a copy of the city_data DataFrame, which we call "clean_city_data".












plt.scatter(weather_data['Latitude'],weather_data['Max Temp'], color='#0D5685', edgecolors = 'black')
plt.xlabel("Latitude")
plt.ylabel("Max Temperature (F)")
plt.title("City Latitude vs Max Temperature (03/11/2024)")
plt.grid(True)
plt.savefig('../Output/Lat_v_Temp.png')
plt.show()








plt.scatter(weather_data['Latitude'],weather_data['Humidity'], color='#0D5685', edgecolors = 'black')
plt.xlabel("Latitude")
plt.ylabel("Humidity (%)")
plt.title("City Latitude vs Humidity Pct. (03/11/2024)")
plt.grid(True)
plt.savefig('../Output/Lat_v_Humidity.png')
plt.show()








plt.scatter(weather_data['Latitude'],weather_data['Cloudiness'], color='#0D5685', edgecolors = 'black')
plt.xlabel("Latitude")
plt.ylabel("Cloudiness (%)")
plt.title("City Latitude vs Cloudiness (03/11/2024)")
plt.grid(True)
plt.savefig('../Output/Lat_v_Cloudiness.png')
plt.show()








plt.scatter(weather_data['Latitude'],weather_data['Wind Speed'], color='#0D5685', edgecolors = 'black')
plt.xlabel("Latitude")
plt.ylabel("Wind Speed (mph)")
plt.title("City Latitude vs Wind Speed (03/11/2024)")
plt.grid(True)
plt.savefig('../Output/Lat_v_WindSpeed.png')
plt.show()








# For each of the above plots calculate and plot a linear regression using the steps below
from sklearn.linear_model import LinearRegression

# Create linear regression function
def linear_regression(df,x,y):
# Set your x and y and reshape to np array
    xval = df[x].values.reshape(-1, 1)
    yval = df[y].values.reshape(-1, 1)

# Fit your Model
    linear_regressor = LinearRegression().fit(xval, yval)
# Slope of regression line equation
    m = linear_regressor.coef_[0]
    b = linear_regressor.intercept_
# Generate predictions and store in df
    df['YPRED'] = linear_regressor.predict(xval)
# Print the r-sqared value
    print(f"The r2-value is: {linear_regressor.score(xval, yval)}")
# Plot the data
    ax = df.plot.scatter(x=x, y=y)
    ax.text(0.25, 0.05, f"y = {round(m[0], 2)}x + {round(b[0], 2)}", transform=ax.transAxes, va='top', color='red')
    df.plot(x=x, y='YPRED', color='red', ax=ax)


# Split dataframe into northern and southern hemishphere data sets, where northern hemisphere includes 
# all cities with latitude >= 0, and southern hemisphere includes all cities with latitude < 0.

northern_hemisphere = weather_data[weather_data['Latitude'] >= 0].copy()
southern_hemisphere=weather_data[weather_data['Latitude'] < 0].copy()

print(f"The total number of cities in the northern hemisphere for our sample is {len(northern_hemisphere)}")
print(f"The total number of cities in the southern hemisphere for our sample is {len(southern_hemisphere)}")
#linear_regression(weather_data,'Latitude','Max Temp')





linear_regression(northern_hemisphere,'Latitude','Max Temp')








linear_regression(southern_hemisphere,'Latitude', 'Max Temp')








linear_regression(northern_hemisphere,'Latitude','Humidity')








linear_regression(southern_hemisphere,'Latitude','Humidity')








linear_regression(northern_hemisphere,'Latitude','Cloudiness')








linear_regression(southern_hemisphere,'Latitude','Cloudiness')








linear_regression(northern_hemisphere,'Latitude','Wind Speed')








linear_regression(southern_hemisphere,'Latitude','Wind Speed')









